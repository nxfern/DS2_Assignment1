{
 "cells": [
  {
   "cell_type": "markdown",
   "id": "740e8776-66c9-4438-aea3-9f2baafc90bc",
   "metadata": {},
   "source": [
    "# DS2 Assignment 1 - Nicolas Fernandez\n",
    "## Predicting Property Prices in New Taipei City, Taiwan\n",
    "The task is to predict property prices in New Taipei City, Taiwan using data taken from [UC Irvine](https://archive.ics.uci.edu/dataset/477/real+estate+valuation+data+set).\n",
    "\n",
    "The precise dataset being used is a cleaned version uploaded within Janos Divenyi's [github repository](https://github.com/divenyijanos/ceu-ml/tree/2023/data/real_estate).\n",
    "\n",
    "The task asks to create a 20% subsample from the data and then create a 70/30% split from that subsample for a training and test sets."
   ]
  },
  {
   "cell_type": "markdown",
   "id": "55980350-aae7-4457-b9d2-5d18a51362a8",
   "metadata": {},
   "source": [
    "## Reading Data and Creating Training and Test Splits"
   ]
  },
  {
   "cell_type": "code",
   "execution_count": 19,
   "id": "0ec9cbc7-bd52-4602-84bc-e72fa004e291",
   "metadata": {},
   "outputs": [
    {
     "data": {
      "text/html": [
       "<div>\n",
       "<style scoped>\n",
       "    .dataframe tbody tr th:only-of-type {\n",
       "        vertical-align: middle;\n",
       "    }\n",
       "\n",
       "    .dataframe tbody tr th {\n",
       "        vertical-align: top;\n",
       "    }\n",
       "\n",
       "    .dataframe thead th {\n",
       "        text-align: right;\n",
       "    }\n",
       "</style>\n",
       "<table border=\"1\" class=\"dataframe\">\n",
       "  <thead>\n",
       "    <tr style=\"text-align: right;\">\n",
       "      <th></th>\n",
       "      <th>id</th>\n",
       "      <th>transaction_date</th>\n",
       "      <th>house_age</th>\n",
       "      <th>distance_to_the_nearest_MRT_station</th>\n",
       "      <th>number_of_convenience_stores</th>\n",
       "      <th>latitude</th>\n",
       "      <th>longitude</th>\n",
       "      <th>house_price_of_unit_area</th>\n",
       "    </tr>\n",
       "  </thead>\n",
       "  <tbody>\n",
       "    <tr>\n",
       "      <th>0</th>\n",
       "      <td>1</td>\n",
       "      <td>2012.917</td>\n",
       "      <td>32.0</td>\n",
       "      <td>84.87882</td>\n",
       "      <td>10</td>\n",
       "      <td>24.98298</td>\n",
       "      <td>121.54024</td>\n",
       "      <td>37.9</td>\n",
       "    </tr>\n",
       "    <tr>\n",
       "      <th>1</th>\n",
       "      <td>2</td>\n",
       "      <td>2012.917</td>\n",
       "      <td>19.5</td>\n",
       "      <td>306.59470</td>\n",
       "      <td>9</td>\n",
       "      <td>24.98034</td>\n",
       "      <td>121.53951</td>\n",
       "      <td>42.2</td>\n",
       "    </tr>\n",
       "    <tr>\n",
       "      <th>2</th>\n",
       "      <td>3</td>\n",
       "      <td>2013.583</td>\n",
       "      <td>13.3</td>\n",
       "      <td>561.98450</td>\n",
       "      <td>5</td>\n",
       "      <td>24.98746</td>\n",
       "      <td>121.54391</td>\n",
       "      <td>47.3</td>\n",
       "    </tr>\n",
       "    <tr>\n",
       "      <th>3</th>\n",
       "      <td>4</td>\n",
       "      <td>2013.500</td>\n",
       "      <td>13.3</td>\n",
       "      <td>561.98450</td>\n",
       "      <td>5</td>\n",
       "      <td>24.98746</td>\n",
       "      <td>121.54391</td>\n",
       "      <td>54.8</td>\n",
       "    </tr>\n",
       "    <tr>\n",
       "      <th>4</th>\n",
       "      <td>5</td>\n",
       "      <td>2012.833</td>\n",
       "      <td>5.0</td>\n",
       "      <td>390.56840</td>\n",
       "      <td>5</td>\n",
       "      <td>24.97937</td>\n",
       "      <td>121.54245</td>\n",
       "      <td>43.1</td>\n",
       "    </tr>\n",
       "    <tr>\n",
       "      <th>...</th>\n",
       "      <td>...</td>\n",
       "      <td>...</td>\n",
       "      <td>...</td>\n",
       "      <td>...</td>\n",
       "      <td>...</td>\n",
       "      <td>...</td>\n",
       "      <td>...</td>\n",
       "      <td>...</td>\n",
       "    </tr>\n",
       "    <tr>\n",
       "      <th>409</th>\n",
       "      <td>410</td>\n",
       "      <td>2013.000</td>\n",
       "      <td>13.7</td>\n",
       "      <td>4082.01500</td>\n",
       "      <td>0</td>\n",
       "      <td>24.94155</td>\n",
       "      <td>121.50381</td>\n",
       "      <td>15.4</td>\n",
       "    </tr>\n",
       "    <tr>\n",
       "      <th>410</th>\n",
       "      <td>411</td>\n",
       "      <td>2012.667</td>\n",
       "      <td>5.6</td>\n",
       "      <td>90.45606</td>\n",
       "      <td>9</td>\n",
       "      <td>24.97433</td>\n",
       "      <td>121.54310</td>\n",
       "      <td>50.0</td>\n",
       "    </tr>\n",
       "    <tr>\n",
       "      <th>411</th>\n",
       "      <td>412</td>\n",
       "      <td>2013.250</td>\n",
       "      <td>18.8</td>\n",
       "      <td>390.96960</td>\n",
       "      <td>7</td>\n",
       "      <td>24.97923</td>\n",
       "      <td>121.53986</td>\n",
       "      <td>40.6</td>\n",
       "    </tr>\n",
       "    <tr>\n",
       "      <th>412</th>\n",
       "      <td>413</td>\n",
       "      <td>2013.000</td>\n",
       "      <td>8.1</td>\n",
       "      <td>104.81010</td>\n",
       "      <td>5</td>\n",
       "      <td>24.96674</td>\n",
       "      <td>121.54067</td>\n",
       "      <td>52.5</td>\n",
       "    </tr>\n",
       "    <tr>\n",
       "      <th>413</th>\n",
       "      <td>414</td>\n",
       "      <td>2013.500</td>\n",
       "      <td>6.5</td>\n",
       "      <td>90.45606</td>\n",
       "      <td>9</td>\n",
       "      <td>24.97433</td>\n",
       "      <td>121.54310</td>\n",
       "      <td>63.9</td>\n",
       "    </tr>\n",
       "  </tbody>\n",
       "</table>\n",
       "<p>414 rows × 8 columns</p>\n",
       "</div>"
      ],
      "text/plain": [
       "      id  transaction_date  house_age  distance_to_the_nearest_MRT_station  \\\n",
       "0      1          2012.917       32.0                             84.87882   \n",
       "1      2          2012.917       19.5                            306.59470   \n",
       "2      3          2013.583       13.3                            561.98450   \n",
       "3      4          2013.500       13.3                            561.98450   \n",
       "4      5          2012.833        5.0                            390.56840   \n",
       "..   ...               ...        ...                                  ...   \n",
       "409  410          2013.000       13.7                           4082.01500   \n",
       "410  411          2012.667        5.6                             90.45606   \n",
       "411  412          2013.250       18.8                            390.96960   \n",
       "412  413          2013.000        8.1                            104.81010   \n",
       "413  414          2013.500        6.5                             90.45606   \n",
       "\n",
       "     number_of_convenience_stores  latitude  longitude  \\\n",
       "0                              10  24.98298  121.54024   \n",
       "1                               9  24.98034  121.53951   \n",
       "2                               5  24.98746  121.54391   \n",
       "3                               5  24.98746  121.54391   \n",
       "4                               5  24.97937  121.54245   \n",
       "..                            ...       ...        ...   \n",
       "409                             0  24.94155  121.50381   \n",
       "410                             9  24.97433  121.54310   \n",
       "411                             7  24.97923  121.53986   \n",
       "412                             5  24.96674  121.54067   \n",
       "413                             9  24.97433  121.54310   \n",
       "\n",
       "     house_price_of_unit_area  \n",
       "0                        37.9  \n",
       "1                        42.2  \n",
       "2                        47.3  \n",
       "3                        54.8  \n",
       "4                        43.1  \n",
       "..                        ...  \n",
       "409                      15.4  \n",
       "410                      50.0  \n",
       "411                      40.6  \n",
       "412                      52.5  \n",
       "413                      63.9  \n",
       "\n",
       "[414 rows x 8 columns]"
      ]
     },
     "metadata": {},
     "output_type": "display_data"
    },
    {
     "name": "stdout",
     "output_type": "stream",
     "text": [
      "Size of the training set: (58, 7), size of the test set: (25, 7)\n"
     ]
    }
   ],
   "source": [
    "# Importing required libraries\n",
    "import pandas as pd\n",
    "import numpy as np\n",
    "from sklearn.model_selection import train_test_split\n",
    "\n",
    "# Setting the pseudo random seed for the due date of the assignment\n",
    "prng = np.random.RandomState(20240322)\n",
    "\n",
    "# Reading the data\n",
    "#real_estate_data = pd.read_csv(\"https://raw.githubusercontent.com/divenyijanos/ceu-ml/2023/data/real_estate/real_estate.csv\")\n",
    "real_estate_data = pd.read_csv('real_estate.csv')\n",
    "display(real_estate_data)\n",
    "\n",
    "# Creating a randomly selected 20% sample of the data, creating target variable 'outcome'\n",
    "real_estate_sample = real_estate_data.sample(frac=0.2)\n",
    "outcome = real_estate_sample[\"house_price_of_unit_area\"]\n",
    "\n",
    "# Selecting numeric features as X variables, excluding target variable\n",
    "features = real_estate_sample.drop(columns=[\"house_price_of_unit_area\"]).select_dtypes(include=np.number)\n",
    "\n",
    "# Creating training and testing splits from features and target, using a 30% split per specifications\n",
    "X_train, X_test, y_train, y_test = train_test_split(features, outcome, test_size=0.3, random_state=prng)\n",
    "\n",
    "print(f\"Size of the training set: {X_train.shape}, size of the test set: {X_test.shape}\")"
   ]
  },
  {
   "cell_type": "markdown",
   "id": "4db2a859-0a8a-464a-8edd-2b57a4e1d9bd",
   "metadata": {},
   "source": [
    "## Evalaution Function"
   ]
  },
  {
   "cell_type": "code",
   "execution_count": 20,
   "id": "b84c2d7e-e1a5-4414-8844-dbe146204266",
   "metadata": {},
   "outputs": [],
   "source": [
    "# Defining the loss function, using Root Mean Squared Log Error\n",
    "def calculateRMSLE(prediction, y_obs):\n",
    "    return round(np.sqrt(np.mean((np.log(np.where(prediction < 0, 0, prediction) + 1) - np.log(y_obs + 1))**2)), 4)"
   ]
  },
  {
   "cell_type": "markdown",
   "id": "5aea0d4c-a578-47be-be3c-d3b30c9c34db",
   "metadata": {},
   "source": [
    "RMSLE is an appropriate loss function since its a calculation that is less sensitive to outliers by design, appropriate for property price prediction. The risk (from a business perspective) from making a wrong prediction could be either under or over pricing homes in certain areas because values that the loss function may have treated as outliers may have been more important than they seemed.?\r"
   ]
  },
  {
   "cell_type": "markdown",
   "id": "653d9c83-10e5-4024-b6fd-70d2e37a4fd9",
   "metadata": {},
   "source": [
    "## Models\n",
    "Below all models will be created, with increasing complexity and/or varying methods of regression (OLS vs Machine Learning)"
   ]
  },
  {
   "cell_type": "markdown",
   "id": "80f70804-0dce-4d04-821d-e76e4692e246",
   "metadata": {},
   "source": [
    "### Benchmark Model"
   ]
  },
  {
   "cell_type": "code",
   "execution_count": 24,
   "id": "22a5aabd-8ac9-45ea-8216-eb1b8e47dd6b",
   "metadata": {},
   "outputs": [
    {
     "data": {
      "text/html": [
       "<div>\n",
       "<style scoped>\n",
       "    .dataframe tbody tr th:only-of-type {\n",
       "        vertical-align: middle;\n",
       "    }\n",
       "\n",
       "    .dataframe tbody tr th {\n",
       "        vertical-align: top;\n",
       "    }\n",
       "\n",
       "    .dataframe thead th {\n",
       "        text-align: right;\n",
       "    }\n",
       "</style>\n",
       "<table border=\"1\" class=\"dataframe\">\n",
       "  <thead>\n",
       "    <tr style=\"text-align: right;\">\n",
       "      <th></th>\n",
       "      <th>Model</th>\n",
       "      <th>Train</th>\n",
       "      <th>Test</th>\n",
       "    </tr>\n",
       "  </thead>\n",
       "  <tbody>\n",
       "    <tr>\n",
       "      <th>0</th>\n",
       "      <td>Benchmark</td>\n",
       "      <td>0.3836</td>\n",
       "      <td>0.4544</td>\n",
       "    </tr>\n",
       "  </tbody>\n",
       "</table>\n",
       "</div>"
      ],
      "text/plain": [
       "       Model   Train    Test\n",
       "0  Benchmark  0.3836  0.4544"
      ]
     },
     "execution_count": 24,
     "metadata": {},
     "output_type": "execute_result"
    }
   ],
   "source": [
    "# Creating a simple benchmark model for comparison, mean value of target variable for training set\n",
    "benchmark = np.mean(y_train)\n",
    "\n",
    "# Calculating performance of benchmark on test set using loss function\n",
    "benchmark_pred = ['Benchmark', calculateRMSLE(benchmark, y_train), calculateRMSLE(benchmark, y_test)]\n",
    "\n",
    "# Storing and displaying results in a dataframe\n",
    "results = pd.DataFrame([benchmark_pred], columns=['Model', 'Train', 'Test'])\n",
    "results"
   ]
  },
  {
   "cell_type": "markdown",
   "id": "a1bc22bc-93b1-44a9-893a-544054b60c7b",
   "metadata": {},
   "source": [
    "### OLS Models"
   ]
  },
  {
   "cell_type": "markdown",
   "id": "6c7063e0-2f2f-418f-b58f-e7cb616e117e",
   "metadata": {},
   "source": [
    "#### Single Feature - `distance_to_the_nearest_MRT_station`"
   ]
  },
  {
   "cell_type": "code",
   "execution_count": 41,
   "id": "000f32d1-1224-4ce7-9141-959eee7f3383",
   "metadata": {},
   "outputs": [
    {
     "data": {
      "text/html": [
       "<div>\n",
       "<style scoped>\n",
       "    .dataframe tbody tr th:only-of-type {\n",
       "        vertical-align: middle;\n",
       "    }\n",
       "\n",
       "    .dataframe tbody tr th {\n",
       "        vertical-align: top;\n",
       "    }\n",
       "\n",
       "    .dataframe thead th {\n",
       "        text-align: right;\n",
       "    }\n",
       "</style>\n",
       "<table border=\"1\" class=\"dataframe\">\n",
       "  <thead>\n",
       "    <tr style=\"text-align: right;\">\n",
       "      <th></th>\n",
       "      <th>Model</th>\n",
       "      <th>Train</th>\n",
       "      <th>Test</th>\n",
       "    </tr>\n",
       "  </thead>\n",
       "  <tbody>\n",
       "    <tr>\n",
       "      <th>0</th>\n",
       "      <td>Benchmark</td>\n",
       "      <td>0.3836</td>\n",
       "      <td>0.4544</td>\n",
       "    </tr>\n",
       "    <tr>\n",
       "      <th>1</th>\n",
       "      <td>OLS Single Feature</td>\n",
       "      <td>0.3460</td>\n",
       "      <td>0.3168</td>\n",
       "    </tr>\n",
       "  </tbody>\n",
       "</table>\n",
       "</div>"
      ],
      "text/plain": [
       "                Model   Train    Test\n",
       "0           Benchmark  0.3836  0.4544\n",
       "1  OLS Single Feature  0.3460  0.3168"
      ]
     },
     "execution_count": 41,
     "metadata": {},
     "output_type": "execute_result"
    }
   ],
   "source": [
    "# Importing required library\n",
    "from sklearn.linear_model import LinearRegression\n",
    "\n",
    "# Creating OLS model trained on only `distance_to_the_nearest_MRT_station`\n",
    "ols_single = LinearRegression().fit(X_train[['distance_to_the_nearest_MRT_station']], y_train)\n",
    "\n",
    "# Creating predictions for model and calculating RMSLE\n",
    "train_error = calculateRMSLE(ols_single.predict(X_train[['distance_to_the_nearest_MRT_station']]), y_train)\n",
    "test_error = calculateRMSLE(ols_single.predict(X_test[['distance_to_the_nearest_MRT_station']]), y_test)\n",
    "ols_single_pred = ['OLS Single Feature', train_error, test_error]\n",
    "\n",
    "# Adding to results\n",
    "results.loc[len(results)] = ols_single_pred\n",
    "results"
   ]
  },
  {
   "cell_type": "markdown",
   "id": "7e975037-a112-428d-9c75-dd3d3598d2fa",
   "metadata": {},
   "source": [
    "This model improves upon simple using the average of the target variable as a predictive model for our target as the RMSLE's improve however they are not vastly improved and this model only uses a single feature from the dataset. The model can be significantly improved as it likely does not catch much of the complexity of the data.\r"
   ]
  },
  {
   "cell_type": "markdown",
   "id": "315d5b69-33ff-4ca7-8982-4c20f01410d1",
   "metadata": {},
   "source": [
    "#### Multivariate OLS\n",
    "Building an OLS model that uses all the available features instead of a single variable"
   ]
  },
  {
   "cell_type": "code",
   "execution_count": null,
   "id": "8f2344da-fbf8-4471-9289-a00e1de64f54",
   "metadata": {},
   "outputs": [],
   "source": []
  }
 ],
 "metadata": {
  "kernelspec": {
   "display_name": "Python 3 (ipykernel)",
   "language": "python",
   "name": "python3"
  },
  "language_info": {
   "codemirror_mode": {
    "name": "ipython",
    "version": 3
   },
   "file_extension": ".py",
   "mimetype": "text/x-python",
   "name": "python",
   "nbconvert_exporter": "python",
   "pygments_lexer": "ipython3",
   "version": "3.11.5"
  }
 },
 "nbformat": 4,
 "nbformat_minor": 5
}
